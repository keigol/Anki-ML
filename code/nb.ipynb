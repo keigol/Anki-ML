{
 "cells": [
  {
   "cell_type": "markdown",
   "metadata": {},
   "source": [
    "1. Initial Setup\n",
    "- install requirements\n",
    "- clone dataset to local\n",
    "- ready to run script.py"
   ]
  },
  {
   "cell_type": "code",
   "execution_count": null,
   "metadata": {},
   "outputs": [],
   "source": [
    "!pip3 install -r ../requirements.txt"
   ]
  },
  {
   "cell_type": "code",
   "execution_count": null,
   "metadata": {},
   "outputs": [],
   "source": [
    "# # This downloads repo to local.\n",
    "\n",
    "# # Make sure you have git-lfs installed (https://git-lfs.com) then run the below command\n",
    "# !git lfs install\n",
    "# # make sure you have run huggingface-cli login\n",
    "!git clone https://huggingface.co/datasets/open-spaced-repetition/FSRS-Anki-20k ../dataset/FSRS-Anki-20k"
   ]
  },
  {
   "cell_type": "code",
   "execution_count": null,
   "metadata": {},
   "outputs": [],
   "source": [
    "# from datasets import load_dataset\n",
    "# from sklearn.model_selection import TimeSeriesSplit\n",
    "\n",
    "# # make sure you have run huggingface-cli login\n",
    "# dataset = load_dataset(\"open-spaced-repetition/FSRS-Anki-20k\", split='train', streaming=True)\n",
    "# dataset = dataset.take(10000)"
   ]
  }
 ],
 "metadata": {
  "kernelspec": {
   "display_name": "venv",
   "language": "python",
   "name": "python3"
  },
  "language_info": {
   "codemirror_mode": {
    "name": "ipython",
    "version": 3
   },
   "file_extension": ".py",
   "mimetype": "text/x-python",
   "name": "python",
   "nbconvert_exporter": "python",
   "pygments_lexer": "ipython3",
   "version": "3.12.2"
  }
 },
 "nbformat": 4,
 "nbformat_minor": 2
}
