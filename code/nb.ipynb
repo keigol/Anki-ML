{
 "cells": [
  {
   "cell_type": "markdown",
   "metadata": {},
   "source": [
    "1. Initial Setup\n",
    "- install requirements\n",
    "- clone dataset to local\n",
    "- run script.py or other.py"
   ]
  },
  {
   "cell_type": "code",
   "execution_count": null,
   "metadata": {},
   "outputs": [],
   "source": [
    "!pip3 install -r ../requirements.txt"
   ]
  },
  {
   "cell_type": "code",
   "execution_count": null,
   "metadata": {},
   "outputs": [],
   "source": [
    "# # Make sure you have git-lfs installed (https://git-lfs.com) then run the below command\n",
    "# !git lfs install\n",
    "# # make sure you have run huggingface-cli login\n",
    "!git clone https://huggingface.co/datasets/open-spaced-repetition/FSRS-Anki-20k ../dataset/FSRS-Anki-20k"
   ]
  },
  {
   "cell_type": "code",
   "execution_count": null,
   "metadata": {},
   "outputs": [],
   "source": [
    "# example running FSRS-4.5 with saving tmp file and plots\n",
    "\"\"\"\n",
    "FILE=1 PLOT=1 python3 code/script.py\n",
    "\"\"\"\n",
    "\n",
    "# example running transformer model with saving tmp file and plots\n",
    "\"\"\"\n",
    "FILE=1 PLOT=1 MODEL=Transformer python3 code/other.py\n",
    "\"\"\""
   ]
  },
  {
   "cell_type": "code",
   "execution_count": null,
   "metadata": {},
   "outputs": [],
   "source": [
    "import os\n",
    "# run from top-level\n",
    "if os.path.basename(os.getcwd()) == \"code\":\n",
    "    os.chdir(\"../\")\n",
    "\n",
    "\"\"\"\n",
    "For our paper lets compare:\n",
    "    - SM2, the built-in scheduler\n",
    "    - FSRS-4.5, a popular extension to improve scheduling\n",
    "    - our three models \n",
    "\"\"\"\n",
    "\n",
    "!FILE=1 PLOT=1 MODEL=SM2 python3 code/other.py  # SM2\n",
    "!FILE=1 PLOT=1 python3 code/script.py           # FSRS-4.5"
   ]
  }
 ],
 "metadata": {
  "kernelspec": {
   "display_name": "venv",
   "language": "python",
   "name": "python3"
  },
  "language_info": {
   "codemirror_mode": {
    "name": "ipython",
    "version": 3
   },
   "file_extension": ".py",
   "mimetype": "text/x-python",
   "name": "python",
   "nbconvert_exporter": "python",
   "pygments_lexer": "ipython3",
   "version": "3.12.2"
  }
 },
 "nbformat": 4,
 "nbformat_minor": 2
}
